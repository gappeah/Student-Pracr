{
 "cells": [
  {
   "cell_type": "markdown",
   "metadata": {},
   "source": [
    "# Guided Task 3a: Iteration - for loops"
   ]
  },
  {
   "cell_type": "markdown",
   "metadata": {},
   "source": [
    "## Objective\n",
    "\n",
    "In this guided task, you'll work with iteration control flow, using for loops in Python.\n",
    "\n",
    "The syntax of a for loop in Python programming language is −\n",
    "\n",
    "for value in sequence:\n",
    " statement(s)"
   ]
  },
  {
   "cell_type": "markdown",
   "metadata": {},
   "source": [
    "### Average"
   ]
  },
  {
   "cell_type": "markdown",
   "metadata": {},
   "source": [
    "Using a for loop, ask the user for 3 numbers and compute their average."
   ]
  },
  {
   "cell_type": "code",
   "execution_count": 15,
   "metadata": {},
   "outputs": [
    {
     "name": "stdout",
     "output_type": "stream",
     "text": [
      "Input a list of numbers separated by comma then space: 23, 25, 98\n",
      "The average of the numbers you entered is:  48.666666666666664\n"
     ]
    }
   ],
   "source": [
    "#receive list from user\n",
    "list_to_add = input('Input a list of numbers separated by comma then space: ')\n",
    "try:\n",
    "    #split the user input by spaces\n",
    "    list_to_add = list_to_add.split(', ')\n",
    "    list_sum = 0\n",
    " \n",
    "    #loop over the list and add number to sum\n",
    "    for number in list_to_add:\n",
    "        list_sum = int(number) + list_sum\n",
    " \n",
    "    #calculate the average\n",
    "    list_avg = list_sum / len(list_to_add)\n",
    "    print('The average of the numbers you entered is: ', list_avg)\n",
    "except ValueError:\n",
    "    print('Please enter a list of number separated by a comma and space only')\n",
    "        "
   ]
  },
  {
   "cell_type": "markdown",
   "metadata": {},
   "source": [
    "### Factorial\n",
    "\n",
    "Ask the user to input an integer"
   ]
  },
  {
   "cell_type": "code",
   "execution_count": 16,
   "metadata": {},
   "outputs": [
    {
     "name": "stdout",
     "output_type": "stream",
     "text": [
      "Enter a number 5\n",
      "5\n"
     ]
    }
   ],
   "source": [
    "n = int(input(\"Enter a number \"))\n",
    "print(n)"
   ]
  },
  {
   "cell_type": "markdown",
   "metadata": {},
   "source": [
    "Display the number's factorial using a for loop.\n",
    "\n",
    "__Note:__ the factorial of a number is that number multiplied by all the preceding numbers.\n",
    "\n",
    "The factorial of 5 is = 5 x 4 x 3 x 2 x 1 = 120\n",
    "<br>\n",
    "Or, if you like = 1 x 2 x 3 x 4 x 5"
   ]
  },
  {
   "cell_type": "code",
   "execution_count": 25,
   "metadata": {},
   "outputs": [
    {
     "name": "stdout",
     "output_type": "stream",
     "text": [
      "Enter a number 5\n",
      "1\n",
      "2\n",
      "6\n",
      "24\n",
      "120\n"
     ]
    }
   ],
   "source": [
    "n = int(input(\"Enter a number \"))\n",
    "factor = 1 \n",
    "for i in range(1, n+1):\n",
    "    factor *= i\n",
    "    print (f\"{factor}\")"
   ]
  },
  {
   "cell_type": "markdown",
   "metadata": {},
   "source": [
    "### Times Tables\n",
    "\n",
    "Ask the user for the biggest times table they need to learn up to.\n",
    "Use a for loop to display the times tables (1-10) up to the maximum value they have asked for."
   ]
  },
  {
   "cell_type": "code",
   "execution_count": null,
   "metadata": {},
   "outputs": [],
   "source": []
  },
  {
   "cell_type": "code",
   "execution_count": null,
   "metadata": {},
   "outputs": [],
   "source": [
    "maxTimeTable = int(input('Give me a max'))\n",
    "\n",
    "for a in range(1,maxTimeTable + 1):\n",
    "    for b in range(1,11):\n",
    "        print(a,'X', b, '=', a*b)"
   ]
  },
  {
   "cell_type": "markdown",
   "metadata": {},
   "source": [
    "### Count vowels\n",
    "\n",
    "Ask the user to input a word or phrase. Count the vowels in it."
   ]
  },
  {
   "cell_type": "code",
   "execution_count": null,
   "metadata": {},
   "outputs": [],
   "source": []
  },
  {
   "cell_type": "code",
   "execution_count": null,
   "metadata": {},
   "outputs": [],
   "source": [
    "word = input('Give me word')\n",
    "\n",
    "counter = 0\n",
    "\n",
    "for letter in word.lower():\n",
    "if letter =='a' or letter=='e' or letter=='i' or letter=='o' or letter=='u':\n",
    "counter += 1\n",
    "\n",
    "print(counter)"
   ]
  }
 ],
 "metadata": {
  "kernelspec": {
   "display_name": "Python 3 (ipykernel)",
   "language": "python",
   "name": "python3"
  },
  "language_info": {
   "codemirror_mode": {
    "name": "ipython",
    "version": 3
   },
   "file_extension": ".py",
   "mimetype": "text/x-python",
   "name": "python",
   "nbconvert_exporter": "python",
   "pygments_lexer": "ipython3",
   "version": "3.10.9"
  }
 },
 "nbformat": 4,
 "nbformat_minor": 4
}
