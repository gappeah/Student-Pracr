{
 "cells": [
  {
   "cell_type": "markdown",
   "metadata": {},
   "source": [
    "# Guided Task 2: Selection"
   ]
  },
  {
   "cell_type": "markdown",
   "metadata": {},
   "source": [
    "### Part 1"
   ]
  },
  {
   "cell_type": "code",
   "execution_count": 22,
   "metadata": {},
   "outputs": [
    {
     "name": "stdout",
     "output_type": "stream",
     "text": [
      "Please enter your nameA\n",
      "Please enter your age3\n",
      "A is 3 years old\n"
     ]
    }
   ],
   "source": [
    "# Using the code from the first guided task:\n",
    "\n",
    "username=input('Please enter your name')\n",
    "age = int(input('Please enter your age'))\n",
    "print(username,'is',age,'years old')"
   ]
  },
  {
   "cell_type": "markdown",
   "metadata": {},
   "source": [
    "The general Python syntax for a simple if statement is:\n",
    "\n",
    "if condition :\n",
    "<br>\n",
    "&emsp;indentedStatementBlock\n",
    "\n",
    "Create an __IF statement__ to see if the person’s age is equal to 18 or over. \n",
    "<br>\n",
    "Display 'You are in category A' "
   ]
  },
  {
   "cell_type": "code",
   "execution_count": 23,
   "metadata": {},
   "outputs": [],
   "source": [
    "if age >=  18:\n",
    "    print (\"You are in caterogry A\")"
   ]
  },
  {
   "cell_type": "markdown",
   "metadata": {},
   "source": [
    "Create an __IF statement__ to see if the person’s age is equal to 16 or over. \n",
    "<br>\n",
    "Display 'You are in category B' "
   ]
  },
  {
   "cell_type": "code",
   "execution_count": 24,
   "metadata": {},
   "outputs": [],
   "source": [
    "if age >=  16:\n",
    "    print (\"You are in caterogry B\")"
   ]
  },
  {
   "cell_type": "markdown",
   "metadata": {},
   "source": [
    "Create an __IF statement__ to see if the person is under 16 years of age. \n",
    "<br>\n",
    "Display 'You are in category C' "
   ]
  },
  {
   "cell_type": "code",
   "execution_count": 25,
   "metadata": {},
   "outputs": [
    {
     "name": "stdout",
     "output_type": "stream",
     "text": [
      "You are in caterogry C\n"
     ]
    }
   ],
   "source": [
    "if age <  16:\n",
    "    print (\"You are in caterogry C\")"
   ]
  },
  {
   "cell_type": "markdown",
   "metadata": {},
   "source": [
    "Go back and run the first bit of the code and enter 19 for age\n",
    "\n",
    "As you see, there are too many confusing messages!\n",
    "<br>\n",
    "Simple IF statements work fine, but not in a chain of IF statements such asthese. For chain, we need to use an __if…elif__ statement. \n",
    "\n",
    "Create an __if…elif__ statement to examine the age in one statement. Follow this\n",
    "pattern:\n",
    "\n",
    "if person is 18 and over:\n",
    "<br>\n",
    "&emsp;display message\n",
    "<br>\n",
    "elif person is 16 and over and less than 18:\n",
    "<br>\n",
    "&emsp;display message\n",
    "<br>\n",
    "else:\n",
    "<br>\n",
    "&emsp;display message\n"
   ]
  },
  {
   "cell_type": "code",
   "execution_count": 28,
   "metadata": {},
   "outputs": [
    {
     "name": "stdout",
     "output_type": "stream",
     "text": [
      "You are too young\n"
     ]
    }
   ],
   "source": [
    "if age >= 18:\n",
    "    print (\"You are above the age of 18\")\n",
    "elif age >= 16:\n",
    "    print (\"You are between the ages of 18 and 16\")\n",
    "else:\n",
    "    print(\"You are too young\")"
   ]
  },
  {
   "cell_type": "markdown",
   "metadata": {},
   "source": [
    "Save and rerun your code using different values for age."
   ]
  },
  {
   "cell_type": "markdown",
   "metadata": {},
   "source": [
    "### Part 2"
   ]
  },
  {
   "cell_type": "markdown",
   "metadata": {},
   "source": [
    "Students are sitting a test where the pass mark is 26. Ask for the result of the test and display if the student has passed or failed the test."
   ]
  },
  {
   "cell_type": "code",
   "execution_count": 40,
   "metadata": {},
   "outputs": [
    {
     "name": "stdout",
     "output_type": "stream",
     "text": [
      "Please input your test score27\n",
      "Pass mark\n"
     ]
    }
   ],
   "source": [
    "test = input(\"Please input your test score\")\n",
    "passmark = 26\n",
    "if int(test) > passmark:\n",
    "    print(\"Pass mark\")\n",
    "else:\n",
    "    print(\"Failed\")\n"
   ]
  },
  {
   "cell_type": "markdown",
   "metadata": {},
   "source": [
    "Modify the code taking into account that the highest possible mark is 40 and the lowest is 0. Display a message when the mark is out of bounds."
   ]
  },
  {
   "cell_type": "code",
   "execution_count": 46,
   "metadata": {},
   "outputs": [
    {
     "ename": "SyntaxError",
     "evalue": "invalid syntax (3257063334.py, line 2)",
     "output_type": "error",
     "traceback": [
      "\u001b[1;36m  Cell \u001b[1;32mIn[46], line 2\u001b[1;36m\u001b[0m\n\u001b[1;33m    if test > 26 and < 40:\u001b[0m\n\u001b[1;37m                     ^\u001b[0m\n\u001b[1;31mSyntaxError\u001b[0m\u001b[1;31m:\u001b[0m invalid syntax\n"
     ]
    }
   ],
   "source": [
    "test = int(input(\"Please input your test score\"))\n",
    "if test > 26 and < 40:\n",
    "    print (\"Pass\")\n",
    "elif:\n",
    "    print(\"Outer bounds\")\n",
    "elif test < 0:\n",
    "    print(\"Outer bounds\")\n",
    "else:\n",
    "    print (\"Failed\")"
   ]
  },
  {
   "cell_type": "markdown",
   "metadata": {},
   "source": []
  },
  {
   "cell_type": "code",
   "execution_count": null,
   "metadata": {},
   "outputs": [],
   "source": []
  },
  {
   "cell_type": "code",
   "execution_count": null,
   "metadata": {},
   "outputs": [],
   "source": []
  }
 ],
 "metadata": {
  "kernelspec": {
   "display_name": "Python 3 (ipykernel)",
   "language": "python",
   "name": "python3"
  },
  "language_info": {
   "codemirror_mode": {
    "name": "ipython",
    "version": 3
   },
   "file_extension": ".py",
   "mimetype": "text/x-python",
   "name": "python",
   "nbconvert_exporter": "python",
   "pygments_lexer": "ipython3",
   "version": "3.10.9"
  }
 },
 "nbformat": 4,
 "nbformat_minor": 4
}
