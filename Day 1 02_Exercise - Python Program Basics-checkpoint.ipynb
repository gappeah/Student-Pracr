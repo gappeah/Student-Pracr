{
 "cells": [
  {
   "cell_type": "markdown",
   "metadata": {},
   "source": [
    "# Guided Task 1: Python Program Basics"
   ]
  },
  {
   "cell_type": "markdown",
   "metadata": {},
   "source": [
    "## Objective\n",
    "\n",
    "In this guided task, you'll use Jupyter Notebooks to:\n",
    "- Create a Python application\n",
    "- Perform arithmetic operations\n",
    "- Input values using keyboard and display information\n",
    "- Use casting to convert strings to integers and floats\n"
   ]
  },
  {
   "cell_type": "markdown",
   "metadata": {},
   "source": [
    "### Part 1 - Display Hello World!\n",
    "\n",
    "Type the following text in the code page that is open:\n",
    "\n",
    "\n",
    "print('Hello World!')"
   ]
  },
  {
   "cell_type": "code",
   "execution_count": 1,
   "metadata": {},
   "outputs": [
    {
     "name": "stdout",
     "output_type": "stream",
     "text": [
      "Hello World!\n"
     ]
    }
   ],
   "source": [
    "print('Hello World!')"
   ]
  },
  {
   "cell_type": "markdown",
   "metadata": {},
   "source": [
    "### Part 2.1 - Display a message using variables\n",
    "\n",
    "Create two variables to hold someone's name and age. Type:\n",
    "\n",
    "\n",
    "username='Bob'\n",
    "<br>\n",
    "age=32\n",
    "<br>\n",
    "print(username,'is',age,'years old')"
   ]
  },
  {
   "cell_type": "code",
   "execution_count": 5,
   "metadata": {},
   "outputs": [
    {
     "name": "stdout",
     "output_type": "stream",
     "text": [
      "Bob is 32 years old\n"
     ]
    }
   ],
   "source": [
    "username=\"Bob\"\n",
    "age=32\n",
    "print(username,\"is\", age, \"years old\")"
   ]
  },
  {
   "cell_type": "markdown",
   "metadata": {},
   "source": [
    "Modify your code to use the '+' character to add strings:\n",
    "\n",
    "username='Bob'\n",
    "<br>\n",
    "age=32\n",
    "<br>\n",
    "print(username+'is'+age+'years old')"
   ]
  },
  {
   "cell_type": "code",
   "execution_count": 8,
   "metadata": {},
   "outputs": [
    {
     "ename": "TypeError",
     "evalue": "can only concatenate str (not \"int\") to str",
     "output_type": "error",
     "traceback": [
      "\u001b[1;31m---------------------------------------------------------------------------\u001b[0m",
      "\u001b[1;31mTypeError\u001b[0m                                 Traceback (most recent call last)",
      "Cell \u001b[1;32mIn[8], line 3\u001b[0m\n\u001b[0;32m      1\u001b[0m username\u001b[38;5;241m=\u001b[39m\u001b[38;5;124m\"\u001b[39m\u001b[38;5;124mBob\u001b[39m\u001b[38;5;124m\"\u001b[39m\n\u001b[0;32m      2\u001b[0m age\u001b[38;5;241m=\u001b[39m\u001b[38;5;241m32\u001b[39m\n\u001b[1;32m----> 3\u001b[0m \u001b[38;5;28mprint\u001b[39m(username,\u001b[38;5;124;43m\"\u001b[39;49m\u001b[38;5;124;43mis \u001b[39;49m\u001b[38;5;124;43m\"\u001b[39;49m\u001b[43m \u001b[49m\u001b[38;5;241;43m+\u001b[39;49m\u001b[43m \u001b[49m\u001b[43mage\u001b[49m, \u001b[38;5;124m\"\u001b[39m\u001b[38;5;124myears old\u001b[39m\u001b[38;5;124m\"\u001b[39m)\n",
      "\u001b[1;31mTypeError\u001b[0m: can only concatenate str (not \"int\") to str"
     ]
    }
   ],
   "source": [
    "username=\"Bob\"\n",
    "age=32\n",
    "print(username,\"is \" + age, \"years old\")"
   ]
  },
  {
   "cell_type": "markdown",
   "metadata": {},
   "source": [
    "What is wrong? Look at the error. Can you correct it?"
   ]
  },
  {
   "cell_type": "code",
   "execution_count": null,
   "metadata": {},
   "outputs": [],
   "source": [
    "username=\"Bob\"\n",
    "age=32\n",
    "print(username,\"is \" + str(age), \"years old\")"
   ]
  },
  {
   "cell_type": "markdown",
   "metadata": {},
   "source": [
    "Does the output look right or are the strings stuck together? That's what + and strings does!\n",
    "<br>\n",
    "<br>\n",
    "Modify the print statement by inserting 3 spaces in the strings as follows:\n",
    "<br>\n",
    "print(username,' is '+age+' years old')"
   ]
  },
  {
   "cell_type": "code",
   "execution_count": 15,
   "metadata": {},
   "outputs": [
    {
     "name": "stdout",
     "output_type": "stream",
     "text": [
      "Bob is 32 years old\n"
     ]
    }
   ],
   "source": [
    "\n",
    "print(username,'is '+str(age)+' years old')"
   ]
  },
  {
   "cell_type": "markdown",
   "metadata": {},
   "source": [
    "### Part 2.2 - Get user input\n",
    "\n",
    "Write the following code to get the username and age by using the keyboard.\n",
    "\n",
    "\n",
    "username=input('Please enter your name')\n",
    "<br>\n",
    "age = input('Please enter your age')\n",
    "<br>\n",
    "print(username,'is',age,'years old')"
   ]
  },
  {
   "cell_type": "code",
   "execution_count": 16,
   "metadata": {},
   "outputs": [
    {
     "name": "stdout",
     "output_type": "stream",
     "text": [
      "Please enter your nameGeorge\n",
      "Please enter your age25\n",
      "George is 25 years old\n"
     ]
    }
   ],
   "source": [
    "username=input('Please enter your name')\n",
    "age = input('Please enter your age')\n",
    "print(username,'is',age,'years old')"
   ]
  },
  {
   "cell_type": "markdown",
   "metadata": {},
   "source": [
    "### Part 3 - Arithmetic operations\n",
    "A box contains 50 crayons which have to be distributed to 6 children. Each child has to get the same number of whole crayons (no breaking). Calculate the number of crayons each child will get."
   ]
  },
  {
   "cell_type": "code",
   "execution_count": 17,
   "metadata": {},
   "outputs": [
    {
     "name": "stdout",
     "output_type": "stream",
     "text": [
      "8\n"
     ]
    }
   ],
   "source": [
    "Box_of_Crayons =  50\n",
    "Children = 6\n",
    "\n",
    "Per_crayon = print(Box_of_Crayons // Children)\n"
   ]
  },
  {
   "cell_type": "markdown",
   "metadata": {},
   "source": [
    "### Part 4 - Casting variables\n",
    "\n",
    "Input the length of the first side of a rectangle.\n",
    "\n",
    "Use a suitable variable name such as length.\n",
    "\n",
    "You must cast (convert) the text you input to an integer type (int).\n",
    "\n",
    "__Tip:__ Please review the example code on the slides if you're not sure how to\n",
    "achieve this"
   ]
  },
  {
   "cell_type": "code",
   "execution_count": 24,
   "metadata": {},
   "outputs": [],
   "source": [
    "length = (\"Please input the length\")\n",
    "print(length)"
   ]
  },
  {
   "cell_type": "markdown",
   "metadata": {},
   "source": [
    "Input the length of the second side of the rectangle.\n",
    "\n",
    "Use a suitable variable name such as width.\n",
    "\n",
    "Again, cast the input text to an integer type (int).\n"
   ]
  },
  {
   "cell_type": "code",
   "execution_count": 25,
   "metadata": {},
   "outputs": [],
   "source": [
    "width = input(\"Please input the width\")\n",
    "print(width)"
   ]
  },
  {
   "cell_type": "markdown",
   "metadata": {},
   "source": [
    "Calculate and display the perimeter of the rectangle. "
   ]
  },
  {
   "cell_type": "code",
   "execution_count": 33,
   "metadata": {},
   "outputs": [
    {
     "name": "stdout",
     "output_type": "stream",
     "text": [
      "Please input the length 5\n",
      "5\n",
      "Please input the width 5\n",
      "5\n",
      "20\n"
     ]
    }
   ],
   "source": [
    "length = input(\"Please input the length \")\n",
    "print(length)\n",
    "\n",
    "width = input(\"Please input the width \")\n",
    "print(width)\n",
    "\n",
    "Perimeter=(int(length) + int(length) + int(width) + int(width) )\n",
    "print(Perimeter)"
   ]
  },
  {
   "cell_type": "markdown",
   "metadata": {},
   "source": [
    "##### Well done, you’ve completed this guided task!"
   ]
  }
 ],
 "metadata": {
  "kernelspec": {
   "display_name": "Python 3 (ipykernel)",
   "language": "python",
   "name": "python3"
  },
  "language_info": {
   "codemirror_mode": {
    "name": "ipython",
    "version": 3
   },
   "file_extension": ".py",
   "mimetype": "text/x-python",
   "name": "python",
   "nbconvert_exporter": "python",
   "pygments_lexer": "ipython3",
   "version": "3.10.9"
  }
 },
 "nbformat": 4,
 "nbformat_minor": 4
}
